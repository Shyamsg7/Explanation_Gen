{
 "cells": [
  {
   "cell_type": "code",
   "execution_count": null,
   "id": "d579f13b",
   "metadata": {},
   "outputs": [],
   "source": [
    "import torch\n",
    "import unsloth\n",
    "from transformers import (\n",
    "    TrainingArguments,\n",
    "    BitsAndBytesConfig\n",
    ")\n",
    "from trl import SFTTrainer\n",
    "from unsloth import FastLanguageModel\n",
    "from datasets import Dataset\n",
    "import pandas as pd"
   ]
  },
  {
   "cell_type": "code",
   "execution_count": null,
   "id": "8089d31d",
   "metadata": {},
   "outputs": [],
   "source": [
    "# Step 1: Configure Quantization for Memory Efficiency\n",
    "bnb_config = BitsAndBytesConfig(\n",
    "    load_in_4bit=True,\n",
    "    bnb_4bit_use_double_quant=True,\n",
    "    bnb_4bit_quant_type=\"nf4\",\n",
    "    bnb_4bit_compute_dtype=torch.bfloat16\n",
    ")"
   ]
  },
  {
   "cell_type": "code",
   "execution_count": null,
   "id": "17c007e8",
   "metadata": {},
   "outputs": [],
   "source": [
    "# Step 2: Load Model and Tokenizer\n",
    "model_name = \"unsloth/DeepSeek-R1-Distill-Qwen-1.5B-unsloth-bnb-4bit\"\n",
    "\n",
    "model, tokenizer = FastLanguageModel.from_pretrained(\n",
    "    model_name,\n",
    "    max_seq_length=1024,\n",
    "    quantization_config=bnb_config,\n",
    "    dtype=None,\n",
    "    load_in_4bit=True,\n",
    ")\n",
    "tokenizer.pad_token = \"right\"\n",
    "EOS_TOKEN = tokenizer.eos_token"
   ]
  },
  {
   "cell_type": "code",
   "execution_count": null,
   "id": "f80e3e3d",
   "metadata": {},
   "outputs": [],
   "source": [
    "# Step 3: LoRa Configuration\n",
    "model = FastLanguageModel.get_peft_model(\n",
    "    model,\n",
    "    r=8,\n",
    "    target_modules=[\"q_proj\", \"k_proj\", \"v_proj\", \"o_proj\", \"gate_proj\", \"up_proj\", \"down_proj\"],\n",
    "    lora_alpha=16,\n",
    "    lora_dropout=0,\n",
    "    bias=\"none\",\n",
    "    use_gradient_checkpointing=\"unsloth\",\n",
    "    random_state=3407,\n",
    "    use_rslora=False,\n",
    "    loftq_config=None\n",
    ")"
   ]
  },
  {
   "cell_type": "code",
   "execution_count": null,
   "id": "6a40194d",
   "metadata": {},
   "outputs": [],
   "source": [
    "#Step 4: Dataset preparation\n",
    "\n",
    "prompt_style = \"\"\"\n",
    "### Question:\n",
    "{}\n",
    "### Response:\n",
    "{}\n",
    "\"\"\"\n",
    "#  Create prompts\n",
    "def format_function(examples):\n",
    "    return {\n",
    "        \"prompt\": [f\"User {uid} rated Item {iid} {rat}/5. Generate a detailed review:\" \n",
    "                  for uid, iid, rat in zip(examples[\"userid\"], examples[\"itemid\"], examples[\"rating\"])],\n",
    "        \"completion\": examples[\"reviewText\"]\n",
    "    }\n",
    "def formatting_prompts_func(examples):\n",
    "    prompts = examples[\"prompt\"]\n",
    "    completions = examples[\"completion\"]\n",
    "    texts = []\n",
    "    for prompt,completion in zip(prompts, completions):\n",
    "        text = prompt_style.format(prompt, completion) + EOS_TOKEN\n",
    "        texts.append(text)\n",
    "    return {\n",
    "        \"text\": texts,\n",
    "    }\n",
    "\n",
    "# Load Dataset\n",
    "df = pd.read_csv(\"test_review_small.csv\")\n",
    "dataset = Dataset.from_pandas(df)\n",
    "dataset = dataset.train_test_split(test_size=0.02)\n",
    "\n",
    "dataset = dataset.map(\n",
    "    format_function,\n",
    "    remove_columns=[\"userid\", \"itemid\", \"rating\", \"reviewText\"],\n",
    "    batched=True,\n",
    "    batch_size=1000\n",
    ")\n",
    "\n",
    "dataset=dataset.map(\n",
    "    formatting_prompts_func,\n",
    "    remove_columns=[\"prompt\", \"completion\"],\n",
    "    batched=True,\n",
    "    batch_size=1000\n",
    ")\n",
    "\n",
    "# Access train and test splits\n",
    "train_dataset = dataset['train']\n",
    "test_dataset = dataset['test']\n",
    "\n",
    "# Print dataset sizes and samples\n",
    "print(\"Train size:\", len(train_dataset))\n",
    "print(\"Test size:\", len(test_dataset))"
   ]
  },
  {
   "cell_type": "code",
   "execution_count": null,
   "id": "dc083af0",
   "metadata": {},
   "outputs": [],
   "source": [
    "#Step5 : Training Arguments\n",
    "training_args = TrainingArguments(\n",
    "    output_dir=\"./results\",\n",
    "    per_device_train_batch_size=2,\n",
    "    per_device_eval_batch_size=2,\n",
    "    num_train_epochs=3,\n",
    "    learning_rate=2e-5,\n",
    "    eval_strategy=\"epoch\",\n",
    "    save_strategy=\"epoch\",\n",
    "    logging_dir=\"./logs\",\n",
    "    logging_steps=10,\n",
    "    save_total_limit=2,\n",
    "    fp16=True,\n",
    "    report_to=\"none\",\n",
    "    gradient_accumulation_steps=1\n",
    ")"
   ]
  },
  {
   "cell_type": "code",
   "execution_count": null,
   "id": "9ffa6877",
   "metadata": {},
   "outputs": [],
   "source": [
    "# Step 6: Training the model\n",
    "trainer = SFTTrainer(\n",
    "    model=model,\n",
    "    tokenizer=tokenizer,\n",
    "    train_dataset=dataset[\"train\"],\n",
    "    dataset_text_field=\"text\",\n",
    "    max_seq_length=2048,\n",
    "    dataset_num_proc=8,\n",
    "    packing=True,\n",
    "    args=training_args,\n",
    ")\n",
    "# Train the model\n",
    "trainer_stats = trainer.train()"
   ]
  },
  {
   "cell_type": "code",
   "execution_count": null,
   "id": "b036a431",
   "metadata": {},
   "outputs": [],
   "source": [
    "# Step 7: Save Model\n",
    "trainer.save_model(\"final_model\")\n",
    "tokenizer.save_pretrained(\"final_model\")"
   ]
  }
 ],
 "metadata": {
  "kernelspec": {
   "display_name": "RL_env",
   "language": "python",
   "name": "python3"
  },
  "language_info": {
   "codemirror_mode": {
    "name": "ipython",
    "version": 3
   },
   "file_extension": ".py",
   "mimetype": "text/x-python",
   "name": "python",
   "nbconvert_exporter": "python",
   "pygments_lexer": "ipython3",
   "version": "3.11.11"
  }
 },
 "nbformat": 4,
 "nbformat_minor": 5
}
